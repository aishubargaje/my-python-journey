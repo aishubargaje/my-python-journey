{
 "cells": [
  {
   "cell_type": "markdown",
   "id": "e577b53d-cc3f-487e-9c51-16371c834192",
   "metadata": {},
   "source": [
    "### There are two types of modules\n",
    "\n",
    "A. Built in Modules : These Modules are ready to import and use and ship with the python interpreter there is no need to install such modules explicitly.\n",
    "\n",
    "B. External Modules : These modules are imported from the third party file or can be installed using a package manager like pip or conda is written by someone else , we can install different versions of a same module with time."
   ]
  },
  {
   "cell_type": "markdown",
   "id": "30138a1b-3527-468e-bba8-6d7e41dc3e69",
   "metadata": {},
   "source": [
    "# BUILT IN MODULES"
   ]
  },
  {
   "cell_type": "markdown",
   "id": "f6500a02-d3c4-45b7-b7a5-2c71d75d8210",
   "metadata": {},
   "source": [
    "### Common Built-in Python Modules\n",
    "math: Contains mathematical functions like sqrt(), pow(), and trigonometric calculations.\n",
    "\n",
    "os: Used for interacting with the operating system, such as file and directory operations.\n",
    "\n",
    "sys: Lets you work with Python runtime environment and command-line arguments.\n",
    "\n",
    "datetime: Handles date and time operations like formatting and calculating durations.\n",
    "\n",
    "csv: Provides classes for reading and writing CSV files.\n",
    "\n",
    "random: Used for generating random numbers and selections.\n",
    "\n",
    "heapq: Implements heap queue algorithms for priority queues.\n",
    "\n",
    "calendar: Manipulates and displays calendar information.\n",
    "\n",
    "collections: Offers specialized container datatypes such as namedtuple and defaultdict.\n",
    "\n",
    "threading: Supports concurrent code execution using threads.\n",
    "\n",
    "unittest: Framework for writing and running unit tests for code."
   ]
  },
  {
   "cell_type": "code",
   "execution_count": 1,
   "id": "0ab494a2-a659-4bbe-b9e3-1ab24bcda85c",
   "metadata": {},
   "outputs": [
    {
     "name": "stdout",
     "output_type": "stream",
     "text": [
      "['.ipynb_checkpoints', 'AI Mastermind - Session 2 Resource Guide_ AI Workflows.pdf', 'Anaconda3-2024.10-1-Windows-x86_64.exe', 'background kpi.png', 'BlinkIT Grocery Data.xlsx', 'Blinkit-yellow-app-icon.svg.png', 'Build Your Own AI Lab', 'Build Your Own AI Lab.zip', 'CBSE 12th Result - CBSEResultArchive.pdf', 'CDS INTERNSHIP HANDBOOK V3.0.1.pptx.pdf', 'ChatGPT Image Aug 13, 2025, 11_56_12 PM.png', 'ChatGPT Image Mar 30, 2025, 11_32_15 PM.png', 'ChatGPT Image Mar 30, 2025, 11_39_20 PM.png', 'Comments.ipynb', 'completion_certificate.pdf', 'convert celsius to fahrenheit.ipynb', 'convert kilometers to miles.ipynb', 'Data Science from Scratch- First Principles with Python.pdf', 'Data Science online course booklet.pdf', 'Data Science online course guide.pdf', 'desktop.ini', 'Escape_squence_characters.ipynb', 'flight-fare', 'FlightPrice_Prediction_Notebook.ipynb', 'Gemini_Generated_Image_ka9it6ka9it6ka9i.png', 'Gemini_Generated_Image_nbj4vynbj4vynbj4.png', 'Gemini_Generated_Image_z8ljj3z8ljj3z8lj.png', 'generate a random number..ipynb', 'Git-2.50.1-64-bit.exe', 'Granola-6.214.0-win-x64.exe', 'haarcascade_frontalface_default.xml', 'Images-20250925T050546Z-1-001', 'Images-20250925T050546Z-1-001.zip', 'installnp.exe', 'Insurance (1).csv', 'Insurance.csv', 'laptop_wallpaper.png', 'LOAN_CALCULATOR_IN_PYTHON_WITH_SOURCE_CODE.zip', 'lost-ark-kawaii--11722.jpg', 'Minimalist White and Grey Professional Resume_20240706_234540_0000.pdf', 'MIS PM Biotech.xlsx', 'Modules.ipynb', 'motivational-quotes-aesthetic-for-me-mfs00frfk6n4x8l0.jpg', 'mysql-connector-net-9.4.0.msi', 'mysql-connector-odbc-8.0.43-win32.msi', 'mysql-connector-odbc-9.4.0-winx64.msi', 'mysql-installer-web-community-8.0.42.0.msi', 'MySqlServerDetails.txt', 'online-shopping-shopping-bag-logo-coupon-png-favpng-u9sScPLzhyWv3Zk65TYmpt7yj.jpg', 'Part - [1,2,3]-20250909T173339Z-1-001', 'Part - [4,5]-20250909T173339Z-1-001.zip', 'Part-Bonus-20250909T173342Z-1-001.zip', 'PBIDesktopSetup_x64 (1).exe', 'PBIDesktopSetup_x64.exe', 'postgresql-16.2-1-windows-x64.exe', 'PRCP-1010-InsClaimPred', 'PRCP-1010-InsClaimPred.docx', 'PRCP-1010-InsClaimPred.zip', 'PRCP-1024-TexasSalaryPred (1).docx', 'PRCP-1024-TexasSalaryPred.docx', 'PRCP-1025-FlightPricePrediction.docx', 'print output without a newline.ipynb', 'Print_statement.ipynb', 'python-3.10.0-amd64.exe', 'python-3.13.2-amd64 (1).exe', 'python-3.13.2-amd64.exe', 'python-3.13.3-amd64.exe', 'python-3.13.5-amd64.exe', 'remember-why-you-started-0jt82jzk8zuroe80.jpg', 'RESUME.pdf', 'salary', 'salary.zip', 'Salary_Jan-25.xlsx', 'Secondary School Examination (Class X) 2020.pdf', 'SQL Data and Doc (Use for SQL Analysis)-20250925T050546Z-1-001', 'SQL Data and Doc (Use for SQL Analysis)-20250925T050546Z-1-001.zip', 'SQL DAY 2.sql', 'SQL DAY 3.sql', 'SQL DAY 4.sql', 'swap two variables.ipynb', 'TableauPublicDesktop-64bit-2024-3-0.exe', 'TableauPublicDesktop-64bit-2025-2-0.exe', 'TexasSalaryPrediction.ipynb', 'Texas_Salary_Prediction.ipynb', 'The Data Science Course 2021 - All Resources.zip', 'UnderstandingDeepLearning_08_05_24_C.pdf', 'vision board.jpg', 'VSCodeUserSetup-x64-1.95.2 (1).exe', 'VSCodeUserSetup-x64-1.95.2.exe', 'vs_BuildTools.exe', '—Pngtree—refresh icon_4491633.png']\n"
     ]
    }
   ],
   "source": [
    "import os\n",
    "print(os.listdir())  # Lists files in the current directory"
   ]
  },
  {
   "cell_type": "code",
   "execution_count": 2,
   "id": "2266efd5-da8d-4a9d-9eb4-9855304b4cbf",
   "metadata": {},
   "outputs": [
    {
     "name": "stdout",
     "output_type": "stream",
     "text": [
      "4.0\n"
     ]
    }
   ],
   "source": [
    "import math\n",
    "print(math.sqrt(16))  # Outputs: 4.0"
   ]
  },
  {
   "cell_type": "code",
   "execution_count": 3,
   "id": "e313bcce-4915-471b-b2d2-0c783503238e",
   "metadata": {},
   "outputs": [
    {
     "name": "stdout",
     "output_type": "stream",
     "text": [
      "2025-09-29 01:58:21.012687\n"
     ]
    }
   ],
   "source": [
    "import datetime\n",
    "print(datetime.datetime.now())  # Shows current date and time"
   ]
  },
  {
   "cell_type": "code",
   "execution_count": 4,
   "id": "36df2a02-aeb2-48fa-abe9-d760930c3493",
   "metadata": {},
   "outputs": [],
   "source": [
    "import csv\n",
    "# Reads and writes CSV files"
   ]
  },
  {
   "cell_type": "code",
   "execution_count": 5,
   "id": "f030b64c-15e5-49ee-acc4-d6f25a4cf932",
   "metadata": {},
   "outputs": [
    {
     "name": "stdout",
     "output_type": "stream",
     "text": [
      "3\n"
     ]
    }
   ],
   "source": [
    "import random\n",
    "print(random.randint(1, 10))  # Generates a random number between 1 and 10"
   ]
  },
  {
   "cell_type": "markdown",
   "id": "bd2ddbf2-172d-45d9-abe1-90df08a807e5",
   "metadata": {},
   "source": [
    "# os module"
   ]
  },
  {
   "cell_type": "code",
   "execution_count": 10,
   "id": "1371a7d5-aecf-4aef-a7e2-29c018d81825",
   "metadata": {},
   "outputs": [
    {
     "name": "stdout",
     "output_type": "stream",
     "text": [
      "The directory already exists\n"
     ]
    }
   ],
   "source": [
    "import os\n",
    "directory = \"new_directory\"\n",
    "try:\n",
    "    os.mkdir(directory)\n",
    "except FileExistsError:\n",
    "    print(\"The directory already exists\")\n"
   ]
  },
  {
   "cell_type": "markdown",
   "id": "22208219-be79-41b0-8653-f66c0341577b",
   "metadata": {},
   "source": [
    "# math module"
   ]
  },
  {
   "cell_type": "code",
   "execution_count": 12,
   "id": "d0fac056-f611-418f-a3c7-dcf3d94be467",
   "metadata": {},
   "outputs": [
    {
     "name": "stdout",
     "output_type": "stream",
     "text": [
      "4.0\n",
      "1.0\n"
     ]
    }
   ],
   "source": [
    "import math\n",
    "\n",
    "# Calculate square root\n",
    "num = 16\n",
    "print(math.sqrt(num))  # Output: 4.0\n",
    "\n",
    "# Calculate sine of an angle (radians)\n",
    "angle = math.pi / 2\n",
    "print(math.sin(angle))  # Output: 1.0\n"
   ]
  },
  {
   "cell_type": "markdown",
   "id": "d1534889-c872-4cba-b47d-59f6bf6825a6",
   "metadata": {},
   "source": [
    "# sys module"
   ]
  },
  {
   "cell_type": "code",
   "execution_count": 13,
   "id": "dda43666-12dd-49eb-ae3a-1d9b82391d86",
   "metadata": {},
   "outputs": [
    {
     "name": "stdout",
     "output_type": "stream",
     "text": [
      "['C:\\\\Users\\\\barga\\\\Downloads', 'C:\\\\Users\\\\barga\\\\anaconda3\\\\python312.zip', 'C:\\\\Users\\\\barga\\\\anaconda3\\\\DLLs', 'C:\\\\Users\\\\barga\\\\anaconda3\\\\Lib', 'C:\\\\Users\\\\barga\\\\anaconda3', '', 'C:\\\\Users\\\\barga\\\\anaconda3\\\\Lib\\\\site-packages', 'C:\\\\Users\\\\barga\\\\anaconda3\\\\Lib\\\\site-packages\\\\win32', 'C:\\\\Users\\\\barga\\\\anaconda3\\\\Lib\\\\site-packages\\\\win32\\\\lib', 'C:\\\\Users\\\\barga\\\\anaconda3\\\\Lib\\\\site-packages\\\\Pythonwin', 'C:\\\\Users\\\\barga\\\\anaconda3\\\\Lib\\\\site-packages\\\\setuptools\\\\_vendor']\n",
      "3.12.7 | packaged by Anaconda, Inc. | (main, Oct  4 2024, 13:17:27) [MSC v.1929 64 bit (AMD64)]\n"
     ]
    }
   ],
   "source": [
    "import sys\n",
    "\n",
    "# Print list of Python module search paths\n",
    "print(sys.path)\n",
    "\n",
    "# Print Python version\n",
    "print(sys.version)"
   ]
  },
  {
   "cell_type": "markdown",
   "id": "5eb1abd3-9200-4ec5-ba60-5d6c1497d185",
   "metadata": {},
   "source": [
    "# datetime module"
   ]
  },
  {
   "cell_type": "code",
   "execution_count": 14,
   "id": "fa272d68-adf7-4128-978a-7d8519ea1b8a",
   "metadata": {},
   "outputs": [
    {
     "name": "stdout",
     "output_type": "stream",
     "text": [
      "2025-09-29 02:04:48.398479\n",
      "2025-09-29 10:30:00\n"
     ]
    }
   ],
   "source": [
    "import datetime\n",
    "\n",
    "# Get current date and time\n",
    "now = datetime.datetime.now()\n",
    "print(now)  # Output: e.g., 2023-09-29 01:58:00.12345\n",
    "\n",
    "# Create a specific date\n",
    "some_date = datetime.datetime(2025, 9, 29, 10, 30)\n",
    "print(some_date)\n"
   ]
  },
  {
   "cell_type": "markdown",
   "id": "08a19976-9ef0-411b-918c-f43e15e9640f",
   "metadata": {},
   "source": [
    "# csv module"
   ]
  },
  {
   "cell_type": "code",
   "execution_count": 15,
   "id": "b485a7f5-9980-4af8-9955-f647ab39fefc",
   "metadata": {},
   "outputs": [
    {
     "name": "stdout",
     "output_type": "stream",
     "text": [
      "['Name', 'Age']\n",
      "['Alice', '23']\n"
     ]
    }
   ],
   "source": [
    "import csv\n",
    "\n",
    "# Write to a CSV file\n",
    "with open('example.csv', 'w', newline='') as file:\n",
    "    writer = csv.writer(file)\n",
    "    writer.writerow(['Name', 'Age'])\n",
    "    writer.writerow(['Alice', 23])\n",
    "\n",
    "# Read from a CSV file\n",
    "with open('example.csv', 'r') as file:\n",
    "    reader = csv.reader(file)\n",
    "    for row in reader:\n",
    "        print(row)\n"
   ]
  },
  {
   "cell_type": "markdown",
   "id": "98779ea7-08d4-44cf-8ae2-1d2922ffa6b5",
   "metadata": {},
   "source": [
    "# EXTERNAL MODULES"
   ]
  },
  {
   "cell_type": "markdown",
   "id": "7813cd02-691c-49db-99a0-e657c0eef07a",
   "metadata": {},
   "source": [
    "### Some popular external modules in Python include :\n",
    "requests, pandas, numpy, matplotlib, Flask, scikit-learn, TensorFlow, PyTorch, BeautifulSoup, Selenium, and SQLAlchemy.\n",
    "\n",
    "Examples of External Modules\n",
    "requests: For making HTTP requests easily and working with APIs.\n",
    "\n",
    "pandas: For high-performance data analysis and manipulation tasks.\n",
    "\n",
    "numpy: Provides numerical operations and efficient multi-dimensional array objects.\n",
    "\n",
    "matplotlib: Comprehensive library for creating static, animated, and interactive visualizations.\n",
    "\n",
    "Flask: Lightweight web framework for rapid web development.\n",
    "\n",
    "scikit-learn: Machine learning library with numerous algorithms and data tools.\n",
    "\n",
    "TensorFlow: Open-source framework for machine learning and deep learning applications.\n",
    "\n",
    "PyTorch: Deep learning platform focused on flexibility and GPU acceleration.\n",
    "\n",
    "BeautifulSoup: For web scraping and parsing HTML/XML documents.\n",
    "\n",
    "Selenium: Browser automation tool frequently used for web testing and scraping.\n",
    "\n",
    "SQLAlchemy: Toolkit and ORM for databases in Python.\n",
    "\n",
    "These modules greatly expand Python's capabilities in web development, data science, machine learning, scientific computing, testing, automation, and system integration.Examples of external modules in Python include requests (for making HTTP requests), numpy (numerical calculations and arrays), pandas (data manipulation), matplotlib (plotting graphs), flask (web framework), scikit-learn (machine learning), tensorflow (deep learning), selenium (browser automation), BeautifulSoup (web scraping), SQLAlchemy (database ORM), and PyTorch (deep learning platform).\n",
    "\n",
    "These modules are not included with standard Python installations—they must be installed separately using tools like pip."
   ]
  },
  {
   "cell_type": "markdown",
   "id": "bf0cff9d-6064-47a8-b51e-6f23667698ae",
   "metadata": {},
   "source": [
    "## requests"
   ]
  },
  {
   "cell_type": "code",
   "execution_count": 16,
   "id": "96365e92-c76f-44ec-931e-a6b8f10a198d",
   "metadata": {},
   "outputs": [
    {
     "name": "stdout",
     "output_type": "stream",
     "text": [
      "200\n",
      "{'current_user_url': 'https://api.github.com/user', 'current_user_authorizations_html_url': 'https://github.com/settings/connections/applications{/client_id}', 'authorizations_url': 'https://api.github.com/authorizations', 'code_search_url': 'https://api.github.com/search/code?q={query}{&page,per_page,sort,order}', 'commit_search_url': 'https://api.github.com/search/commits?q={query}{&page,per_page,sort,order}', 'emails_url': 'https://api.github.com/user/emails', 'emojis_url': 'https://api.github.com/emojis', 'events_url': 'https://api.github.com/events', 'feeds_url': 'https://api.github.com/feeds', 'followers_url': 'https://api.github.com/user/followers', 'following_url': 'https://api.github.com/user/following{/target}', 'gists_url': 'https://api.github.com/gists{/gist_id}', 'hub_url': 'https://api.github.com/hub', 'issue_search_url': 'https://api.github.com/search/issues?q={query}{&page,per_page,sort,order}', 'issues_url': 'https://api.github.com/issues', 'keys_url': 'https://api.github.com/user/keys', 'label_search_url': 'https://api.github.com/search/labels?q={query}&repository_id={repository_id}{&page,per_page}', 'notifications_url': 'https://api.github.com/notifications', 'organization_url': 'https://api.github.com/orgs/{org}', 'organization_repositories_url': 'https://api.github.com/orgs/{org}/repos{?type,page,per_page,sort}', 'organization_teams_url': 'https://api.github.com/orgs/{org}/teams', 'public_gists_url': 'https://api.github.com/gists/public', 'rate_limit_url': 'https://api.github.com/rate_limit', 'repository_url': 'https://api.github.com/repos/{owner}/{repo}', 'repository_search_url': 'https://api.github.com/search/repositories?q={query}{&page,per_page,sort,order}', 'current_user_repositories_url': 'https://api.github.com/user/repos{?type,page,per_page,sort}', 'starred_url': 'https://api.github.com/user/starred{/owner}{/repo}', 'starred_gists_url': 'https://api.github.com/gists/starred', 'topic_search_url': 'https://api.github.com/search/topics?q={query}{&page,per_page}', 'user_url': 'https://api.github.com/users/{user}', 'user_organizations_url': 'https://api.github.com/user/orgs', 'user_repositories_url': 'https://api.github.com/users/{user}/repos{?type,page,per_page,sort}', 'user_search_url': 'https://api.github.com/search/users?q={query}{&page,per_page,sort,order}'}\n"
     ]
    }
   ],
   "source": [
    "import requests\n",
    "\n",
    "response = requests.get(\"https://api.github.com\")\n",
    "print(response.status_code)\n",
    "print(response.json())\n"
   ]
  },
  {
   "cell_type": "markdown",
   "id": "42a9c08f-c669-453c-9a14-827d1202f659",
   "metadata": {},
   "source": [
    "## pandas"
   ]
  },
  {
   "cell_type": "code",
   "execution_count": 17,
   "id": "fda543b7-5789-4ba8-9269-713c846619ad",
   "metadata": {},
   "outputs": [
    {
     "name": "stdout",
     "output_type": "stream",
     "text": [
      "    Name  Age\n",
      "0    Tom   20\n",
      "1  Jerry   22\n"
     ]
    }
   ],
   "source": [
    "import pandas as pd\n",
    "\n",
    "data = {'Name': ['Tom', 'Jerry'], 'Age': [20, 22]}\n",
    "df = pd.DataFrame(data)\n",
    "print(df)"
   ]
  },
  {
   "cell_type": "markdown",
   "id": "34a2d4e7-989a-4042-a6ec-a98bf58ce93a",
   "metadata": {},
   "source": [
    "# numpy"
   ]
  },
  {
   "cell_type": "code",
   "execution_count": 18,
   "id": "efa0c077-8309-4a89-9862-9ca51d7a4095",
   "metadata": {},
   "outputs": [
    {
     "name": "stdout",
     "output_type": "stream",
     "text": [
      "[2 4 6 8]\n"
     ]
    }
   ],
   "source": [
    "import numpy as np\n",
    "\n",
    "arr = np.array([1, 2, 3, 4])\n",
    "print(arr * 2)"
   ]
  },
  {
   "cell_type": "markdown",
   "id": "71559a6d-b7f2-4a0c-a974-c35e219bc78f",
   "metadata": {},
   "source": [
    "## matplotlib"
   ]
  },
  {
   "cell_type": "code",
   "execution_count": 19,
   "id": "86b626de-e06c-4ba2-a26b-924309362d36",
   "metadata": {},
   "outputs": [
    {
     "data": {
      "image/png": "[encoded data removed]",
      "text/plain": [
       "<Figure size 640x480 with 1 Axes>"
      ]
     },
     "metadata": {},
     "output_type": "display_data"
    }
   ],
   "source": [
    "import matplotlib.pyplot as plt\n",
    "\n",
    "plt.plot([1, 2, 3], [4, 5, 6])\n",
    "plt.xlabel(\"x axis\")\n",
    "plt.ylabel(\"y axis\")\n",
    "plt.title(\"Simple Plot\")\n",
    "plt.show()"
   ]
  },
  {
   "cell_type": "markdown",
   "id": "b3cbc60a-da9a-4695-879e-614d7d797fd7",
   "metadata": {},
   "source": [
    "## BeautifulSoup"
   ]
  },
  {
   "cell_type": "code",
   "execution_count": 20,
   "id": "28605542-a3d1-4bd9-b4bd-6668b50fe1c6",
   "metadata": {},
   "outputs": [
    {
     "name": "stdout",
     "output_type": "stream",
     "text": [
      "Hello, World!\n"
     ]
    }
   ],
   "source": [
    "from bs4 import BeautifulSoup\n",
    "\n",
    "html = \"<html><body><h1>Hello, World!</h1></body></html>\"\n",
    "soup = BeautifulSoup(html, \"html.parser\")\n",
    "print(soup.h1.text)"
   ]
  }
 ],
 "metadata": {
  "kernelspec": {
   "display_name": "Python 3 (ipykernel)",
   "language": "python",
   "name": "python3"
  },
  "language_info": {
   "codemirror_mode": {
    "name": "ipython",
    "version": 3
   },
   "file_extension": ".py",
   "mimetype": "text/x-python",
   "name": "python",
   "nbconvert_exporter": "python",
   "pygments_lexer": "ipython3",
   "version": "3.12.7"
  }
 },
 "nbformat": 4,
 "nbformat_minor": 5
}
