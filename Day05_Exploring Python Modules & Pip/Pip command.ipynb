{
 "cells": [
  {
   "cell_type": "markdown",
   "id": "4869e57e-ff29-4833-bdf8-cdb01ba8d830",
   "metadata": {},
   "source": [
    "# The pip command\n",
    "\n",
    "It can be used as a package manager pip to install a python module. lets install a module called pandas using the following command."
   ]
  },
  {
   "cell_type": "code",
   "execution_count": 1,
   "id": "ba97da7f-cbc2-469e-8b20-11a2369eafd5",
   "metadata": {},
   "outputs": [
    {
     "name": "stdout",
     "output_type": "stream",
     "text": [
      "Requirement already satisfied: pandas in c:\\users\\barga\\anaconda3\\lib\\site-packages (2.2.2)\n",
      "Requirement already satisfied: numpy>=1.26.0 in c:\\users\\barga\\anaconda3\\lib\\site-packages (from pandas) (1.26.4)\n",
      "Requirement already satisfied: python-dateutil>=2.8.2 in c:\\users\\barga\\anaconda3\\lib\\site-packages (from pandas) (2.9.0.post0)\n",
      "Requirement already satisfied: pytz>=2020.1 in c:\\users\\barga\\anaconda3\\lib\\site-packages (from pandas) (2024.1)\n",
      "Requirement already satisfied: tzdata>=2022.7 in c:\\users\\barga\\anaconda3\\lib\\site-packages (from pandas) (2023.3)\n",
      "Requirement already satisfied: six>=1.5 in c:\\users\\barga\\anaconda3\\lib\\site-packages (from python-dateutil>=2.8.2->pandas) (1.16.0)\n",
      "Note: you may need to restart the kernel to use updated packages.\n"
     ]
    }
   ],
   "source": [
    "pip install pandas"
   ]
  },
  {
   "cell_type": "markdown",
   "id": "dd339d4a-47fd-46c3-84f1-d06527a701c0",
   "metadata": {},
   "source": [
    "## Commonly used pip install command options include:\n",
    "\n",
    "-r, --requirement <file>: Install all packages listed in the given requirements file.\n",
    "\n",
    "-c, --constraint <file>: Constrain versions using a constraints file.\n",
    "\n",
    "--no-deps: Do not install package dependencies.\n",
    "\n",
    "--pre: Include pre-release and development versions.\n",
    "\n",
    "-e, --editable <path/url>: Install a package in editable/development mode, usually from a local path or a source control URL.\n",
    "\n",
    "--upgrade: Upgrade the package to the newest available version.\n",
    "\n",
    "--user: Install to the user’s site directory instead of the system-wide directory.\n",
    "\n",
    "--target <dir>:Install packages into the specified directory instead of the site-packages directory.\n",
    "\n",
    "--dry-run: Show what would be done without actually installing anything.\n",
    "\n",
    "--no-cache-dir: Disable the cache to force pip to fetch fresh copies."
   ]
  },
  {
   "cell_type": "code",
   "execution_count": null,
   "id": "5ab6cc07-abd2-4149-9f10-6d193ed233a8",
   "metadata": {},
   "outputs": [],
   "source": [
    "# Install packages from a requirements file:\n",
    "pip install -r requirements.txt"
   ]
  },
  {
   "cell_type": "code",
   "execution_count": null,
   "id": "17266f3f-41c8-4eb3-85f6-f21b6158d930",
   "metadata": {},
   "outputs": [],
   "source": [
    "# Upgrade a package:\n",
    "pip install --upgrade requests"
   ]
  }
 ],
 "metadata": {
  "kernelspec": {
   "display_name": "Python 3 (ipykernel)",
   "language": "python",
   "name": "python3"
  },
  "language_info": {
   "codemirror_mode": {
    "name": "ipython",
    "version": 3
   },
   "file_extension": ".py",
   "mimetype": "text/x-python",
   "name": "python",
   "nbconvert_exporter": "python",
   "pygments_lexer": "ipython3",
   "version": "3.12.7"
  }
 },
 "nbformat": 4,
 "nbformat_minor": 5
}
