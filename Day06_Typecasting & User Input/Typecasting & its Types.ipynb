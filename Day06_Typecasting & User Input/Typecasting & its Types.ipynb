{
 "cells": [
  {
   "cell_type": "markdown",
   "id": "44cb7c6e-8f75-4e1c-9222-4f5cae1f970b",
   "metadata": {},
   "source": [
    "# Type Casting"
   ]
  },
  {
   "cell_type": "markdown",
   "id": "b24c297d-7ff9-42a5-8885-8f8e56e65dd5",
   "metadata": {},
   "source": [
    "The conversion of one data type into the other data type is known as type casting or type conversion in python.\n",
    "int() , str() , ord() , hex() , oct() , tuple() , set() , list() , dict() .This is a function which helps to convert \"Data Types\" into another."
   ]
  },
  {
   "cell_type": "code",
   "execution_count": 1,
   "id": "f4a8dee3-0eaf-42be-83ac-cd44d1fd316d",
   "metadata": {},
   "outputs": [
    {
     "name": "stdout",
     "output_type": "stream",
     "text": [
      "3\n"
     ]
    }
   ],
   "source": [
    "a = \"1\"  #string \" \"\n",
    "b = \"2\"\n",
    "print(int(a)+ int(b))"
   ]
  },
  {
   "cell_type": "code",
   "execution_count": 2,
   "id": "1cfee55e-5704-4fe6-a192-9dd3f550bc2e",
   "metadata": {},
   "outputs": [
    {
     "name": "stdout",
     "output_type": "stream",
     "text": [
      "12\n"
     ]
    }
   ],
   "source": [
    "a = \"1\" \n",
    "b = \"2\"\n",
    "print(a + b)"
   ]
  },
  {
   "cell_type": "markdown",
   "id": "e485360f-150e-41e6-9ea7-cbe8983cbe58",
   "metadata": {},
   "source": [
    "It will join both string"
   ]
  },
  {
   "cell_type": "markdown",
   "id": "616c81f0-4ab2-44b3-8ac8-883171422668",
   "metadata": {},
   "source": [
    "## Two Types of TypeCasting :"
   ]
  },
  {
   "cell_type": "markdown",
   "id": "0967c7df-e33d-4ab2-816f-30919402b884",
   "metadata": {},
   "source": [
    "1. Explicit TypeCasting\n",
    "2. Implicit TypeCasting"
   ]
  },
  {
   "cell_type": "markdown",
   "id": "d80f1e74-feb9-494b-ac14-a0885cf44ea3",
   "metadata": {},
   "source": [
    "(1) Explicit Conversion:\n",
    "The conversion of one datatype into another datatype done via developer or programmer's intervention or manually as per the requirement, is known as explicit type conversion"
   ]
  },
  {
   "cell_type": "code",
   "execution_count": 3,
   "id": "156c95a2-9d2b-4bf0-a0e3-206496f9628d",
   "metadata": {},
   "outputs": [
    {
     "name": "stdout",
     "output_type": "stream",
     "text": [
      "The sum of both the numbers is : 22\n"
     ]
    }
   ],
   "source": [
    "a = \"15\"\n",
    "b = 7\n",
    "c = int(a)\n",
    "sum = b+c\n",
    "print(\"The sum of both the numbers is :\",sum)"
   ]
  },
  {
   "cell_type": "markdown",
   "id": "1eb65fc3-8356-4776-8400-76244999074d",
   "metadata": {},
   "source": [
    "(2) Implicit Conversion: Python converts datatypes on its own. Whenever we are performing operations on two variables implicit type casting converts lower order variable into higher order variable. Data Type in python do not have the same level i.e ordering of data types is not the same in python . Some of the data types have higher order, and some have lower order. While performing any operations on variables with different data types in python , one of the variables data types will be changed to the higher data types."
   ]
  },
  {
   "cell_type": "code",
   "execution_count": 7,
   "id": "51d0f0ff-137e-4195-b48e-976d0dab82fd",
   "metadata": {},
   "outputs": [
    {
     "name": "stdout",
     "output_type": "stream",
     "text": [
      "<class 'int'>\n",
      "<class 'float'>\n",
      "10.0\n",
      "<class 'float'>\n"
     ]
    }
   ],
   "source": [
    "# a into int\n",
    "a = 7\n",
    "print(type(a))\n",
    "b = 3.0\n",
    "print(type(b))\n",
    "c = a+b\n",
    "print (c)\n",
    "print (type(c))"
   ]
  }
 ],
 "metadata": {
  "kernelspec": {
   "display_name": "Python 3 (ipykernel)",
   "language": "python",
   "name": "python3"
  },
  "language_info": {
   "codemirror_mode": {
    "name": "ipython",
    "version": 3
   },
   "file_extension": ".py",
   "mimetype": "text/x-python",
   "name": "python",
   "nbconvert_exporter": "python",
   "pygments_lexer": "ipython3",
   "version": "3.12.3"
  }
 },
 "nbformat": 4,
 "nbformat_minor": 5
}
