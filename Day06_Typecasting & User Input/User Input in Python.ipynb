{
 "cells": [
  {
   "cell_type": "markdown",
   "id": "920808a0-8a3e-4621-a70c-4ca5806bf783",
   "metadata": {},
   "source": [
    "# Taking user input in python"
   ]
  },
  {
   "cell_type": "markdown",
   "id": "5f1d54b8-89f3-4a30-b8ab-9f80c953222c",
   "metadata": {},
   "source": [
    "In Python , We can take user input directly by user input() function. This input function gives a return values as string / character hence we have to pass that into a variable."
   ]
  },
  {
   "cell_type": "code",
   "execution_count": 1,
   "id": "b0f3b4cc-ffd9-4b8a-b87e-6147d7d09dc1",
   "metadata": {},
   "outputs": [
    {
     "name": "stdin",
     "output_type": "stream",
     "text": [
      " Radhika\n"
     ]
    },
    {
     "name": "stdout",
     "output_type": "stream",
     "text": [
      "My name is Radhika\n"
     ]
    }
   ],
   "source": [
    "a = input()\n",
    "print(\"My name is\", a)"
   ]
  },
  {
   "cell_type": "code",
   "execution_count": 2,
   "id": "76faf45e-9cb0-4f00-a9d2-ead883badd98",
   "metadata": {},
   "outputs": [
    {
     "name": "stdin",
     "output_type": "stream",
     "text": [
      "Enter First Number: 89\n",
      "Enter Second Number: 45\n"
     ]
    },
    {
     "name": "stdout",
     "output_type": "stream",
     "text": [
      "8945\n"
     ]
    }
   ],
   "source": [
    "x = input (\"Enter First Number:\")\n",
    "y = input (\"Enter Second Number:\")\n",
    "print (x+y)"
   ]
  },
  {
   "cell_type": "markdown",
   "id": "4b3eed2c-7d6e-414a-bbc1-9aee223b8663",
   "metadata": {},
   "source": [
    "user input gives output always in string. you have to mention it int(x) + int(y) then the output will be 134"
   ]
  }
 ],
 "metadata": {
  "kernelspec": {
   "display_name": "Python 3 (ipykernel)",
   "language": "python",
   "name": "python3"
  },
  "language_info": {
   "codemirror_mode": {
    "name": "ipython",
    "version": 3
   },
   "file_extension": ".py",
   "mimetype": "text/x-python",
   "name": "python",
   "nbconvert_exporter": "python",
   "pygments_lexer": "ipython3",
   "version": "3.12.3"
  }
 },
 "nbformat": 4,
 "nbformat_minor": 5
}
