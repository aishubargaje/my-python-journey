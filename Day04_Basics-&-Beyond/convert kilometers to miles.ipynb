{
 "cells": [
  {
   "cell_type": "markdown",
   "id": "1a3f174f-7f1b-4f9a-b6b9-756be05a4678",
   "metadata": {},
   "source": [
    "# Python Program to Convert Kilometers to Miles\n",
    "In this example, we'll learn to convert kilometers to miles and display it."
   ]
  },
  {
   "cell_type": "code",
   "execution_count": 1,
   "id": "e415b962-bd66-4c3f-8e3e-fb36c5e13037",
   "metadata": {},
   "outputs": [
    {
     "name": "stdin",
     "output_type": "stream",
     "text": [
      "Enter value in kilometers:  2.5\n"
     ]
    },
    {
     "name": "stdout",
     "output_type": "stream",
     "text": [
      "2.50 kilometers is equal to 1.55 miles\n"
     ]
    }
   ],
   "source": [
    "#Example: Kilometers to Miles\n",
    "\n",
    "# Taking kilometers input from the user\n",
    "kilometers = float(input(\"Enter value in kilometers: \"))\n",
    "\n",
    "# conversion factor\n",
    "conv_fac = 0.621371\n",
    "\n",
    "# calculate miles\n",
    "miles = kilometers * conv_fac\n",
    "print('%0.2f kilometers is equal to %0.2f miles' %(kilometers,miles))"
   ]
  },
  {
   "cell_type": "markdown",
   "id": "a24580dd-d32e-47e5-9366-10bde2041048",
   "metadata": {},
   "source": [
    "### Explanation:\n",
    "\n",
    "Here, the user is asked to enter kilometers. This value is stored in the kilometers variable.\n",
    "\n",
    "Since 1 kilometer is equal to 0.621371 miles, we can get the equivalent miles by multiplying kilometers with this factor.\n",
    "\n",
    "Your turn: Modify the above program to convert miles to kilometers using the following formula and run it.\n",
    "\n",
    "kilometers = miles / conv_fac"
   ]
  },
  {
   "cell_type": "code",
   "execution_count": 2,
   "id": "ac2ca373-e51d-484c-bf56-cb5357841750",
   "metadata": {},
   "outputs": [
    {
     "name": "stdin",
     "output_type": "stream",
     "text": [
      "Enter distance in kilometers:  25\n"
     ]
    },
    {
     "name": "stdout",
     "output_type": "stream",
     "text": [
      "25.0 kilometers is equal to 15.534275000000001 miles.\n"
     ]
    }
   ],
   "source": [
    "# Python Program to Convert Kilometers to Miles\n",
    "\n",
    "# Taking input from the user\n",
    "kilometers = float(input(\"Enter distance in kilometers: \"))\n",
    "\n",
    "# Conversion factor\n",
    "conversion_factor = 0.621371\n",
    "\n",
    "# Calculate miles\n",
    "miles = kilometers * conversion_factor\n",
    "\n",
    "# Display result\n",
    "print(f\"{kilometers} kilometers is equal to {miles} miles.\")\n"
   ]
  },
  {
   "cell_type": "markdown",
   "id": "d50f93bd-9ee7-499b-a9c1-f2789749a83e",
   "metadata": {},
   "source": [
    "### Explanation:\n",
    "\n",
    "input() → takes user input in kilometers.\n",
    "\n",
    "float() → ensures the input is treated as a decimal number.\n",
    "\n",
    "conversion_factor = 0.621371 → 1 km = 0.621371 miles.\n",
    "\n",
    "f-string → formats the output clearly."
   ]
  }
 ],
 "metadata": {
  "kernelspec": {
   "display_name": "Python 3 (ipykernel)",
   "language": "python",
   "name": "python3"
  },
  "language_info": {
   "codemirror_mode": {
    "name": "ipython",
    "version": 3
   },
   "file_extension": ".py",
   "mimetype": "text/x-python",
   "name": "python",
   "nbconvert_exporter": "python",
   "pygments_lexer": "ipython3",
   "version": "3.12.7"
  }
 },
 "nbformat": 4,
 "nbformat_minor": 5
}
