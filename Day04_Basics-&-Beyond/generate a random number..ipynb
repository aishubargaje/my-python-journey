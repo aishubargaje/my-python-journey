{
 "cells": [
  {
   "cell_type": "markdown",
   "id": "0717afbc-9a3b-423e-8524-6a8677e64fe8",
   "metadata": {},
   "source": [
    "# Python Program to Generate a Random Number\n",
    "In this example, you will learn to generate a random number in Python."
   ]
  },
  {
   "cell_type": "markdown",
   "id": "7d070c28-a671-421d-a74e-5495d989c682",
   "metadata": {},
   "source": [
    "To generate random number in Python, randint() function is used. This function is defined in random module."
   ]
  },
  {
   "cell_type": "code",
   "execution_count": 1,
   "id": "d0aea31b-309a-4e6d-98a4-3e8b53d45a9b",
   "metadata": {},
   "outputs": [
    {
     "name": "stdout",
     "output_type": "stream",
     "text": [
      "0\n"
     ]
    }
   ],
   "source": [
    "#Example: Generate a random number between 0 and 9\n",
    "\n",
    "# importing the random module\n",
    "import random\n",
    "\n",
    "print(random.randint(0,9))"
   ]
  },
  {
   "cell_type": "markdown",
   "id": "b8089ff0-5bf7-409a-bd6b-1da4d604975d",
   "metadata": {},
   "source": [
    "## Note: \n",
    "that we may get different output because this program generates random number in range 0 and 9. The syntax of this function is:\n",
    "\n",
    "random.randint(a,b)\n",
    "This returns a number N in the inclusive range [a,b], meaning a <= N <= b, where the endpoints are included in the range"
   ]
  },
  {
   "cell_type": "code",
   "execution_count": 2,
   "id": "066995cb-4910-42b7-aae4-d30c007f0e1e",
   "metadata": {},
   "outputs": [
    {
     "name": "stdout",
     "output_type": "stream",
     "text": [
      "🎲 Random number between 1 and 100 is: 8\n"
     ]
    }
   ],
   "source": [
    "# Python Program to Generate a Random Number\n",
    "\n",
    "import random\n",
    "\n",
    "# Generate a random integer between 1 and 100\n",
    "random_number = random.randint(1, 100)\n",
    "\n",
    "print(\"🎲 Random number between 1 and 100 is:\", random_number)"
   ]
  }
 ],
 "metadata": {
  "kernelspec": {
   "display_name": "Python 3 (ipykernel)",
   "language": "python",
   "name": "python3"
  },
  "language_info": {
   "codemirror_mode": {
    "name": "ipython",
    "version": 3
   },
   "file_extension": ".py",
   "mimetype": "text/x-python",
   "name": "python",
   "nbconvert_exporter": "python",
   "pygments_lexer": "ipython3",
   "version": "3.12.7"
  }
 },
 "nbformat": 4,
 "nbformat_minor": 5
}
