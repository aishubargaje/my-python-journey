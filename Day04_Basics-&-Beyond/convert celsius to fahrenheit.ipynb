{
 "cells": [
  {
   "cell_type": "markdown",
   "id": "eeb4dc0f-c10e-4dce-819b-a25b828a5c46",
   "metadata": {},
   "source": [
    "# Python Program to Convert Celsius To Fahrenheit\n",
    "In this program, you'll learn to convert Celsuis to Fahrenheit and display it.\n",
    "\n",
    "In the program below, we take a temperature in degree Celsius and convert it into degree Fahrenheit. They are related by the formula:\n",
    "celsius * 1.8 = fahrenheit - 32"
   ]
  },
  {
   "cell_type": "code",
   "execution_count": 1,
   "id": "0be35682-12e3-4c71-8e23-b5a272b7add6",
   "metadata": {},
   "outputs": [
    {
     "name": "stdout",
     "output_type": "stream",
     "text": [
      "37.5 degree Celsius is equal to 99.5 degree Fahrenheit\n"
     ]
    }
   ],
   "source": [
    "#Example: Convert temperature in celsius to fahrenheit\n",
    "\n",
    "# change this value for a different result\n",
    "celsius = 37.5\n",
    "\n",
    "# calculate fahrenheit\n",
    "fahrenheit = (celsius * 1.8) + 32\n",
    "print('%0.1f degree Celsius is equal to %0.1f degree Fahrenheit' %(celsius,fahrenheit))"
   ]
  },
  {
   "cell_type": "code",
   "execution_count": 2,
   "id": "baccc518-d56b-42c6-846d-13c343dbfbc0",
   "metadata": {},
   "outputs": [
    {
     "name": "stdin",
     "output_type": "stream",
     "text": [
      "Enter temperature in Celsius:  102\n"
     ]
    },
    {
     "name": "stdout",
     "output_type": "stream",
     "text": [
      "102.0° Celsius is equal to 215.6° Fahrenheit.\n"
     ]
    }
   ],
   "source": [
    "# Python Program to Convert Celsius to Fahrenheit\n",
    "\n",
    "# Taking input from the user\n",
    "celsius = float(input(\"Enter temperature in Celsius: \"))\n",
    "\n",
    "# Conversion formula\n",
    "fahrenheit = (celsius * 9/5) + 32\n",
    "\n",
    "# Display result\n",
    "print(f\"{celsius}° Celsius is equal to {fahrenheit}° Fahrenheit.\")"
   ]
  }
 ],
 "metadata": {
  "kernelspec": {
   "display_name": "Python 3 (ipykernel)",
   "language": "python",
   "name": "python3"
  },
  "language_info": {
   "codemirror_mode": {
    "name": "ipython",
    "version": 3
   },
   "file_extension": ".py",
   "mimetype": "text/x-python",
   "name": "python",
   "nbconvert_exporter": "python",
   "pygments_lexer": "ipython3",
   "version": "3.12.7"
  }
 },
 "nbformat": 4,
 "nbformat_minor": 5
}
