{
 "cells": [
  {
   "cell_type": "markdown",
   "id": "b2059a56-4a8f-498e-9ee1-c28cf5ad5d11",
   "metadata": {},
   "source": [
    "# Python Program to Swap Two Variables"
   ]
  },
  {
   "cell_type": "markdown",
   "id": "763ccca1-05f3-4348-9f81-660c7481e6d3",
   "metadata": {},
   "source": [
    "In this example, you will learn to swap two variables by using a temporary variable and, without using temporary variable."
   ]
  },
  {
   "cell_type": "code",
   "execution_count": 1,
   "id": "d2c70367-2154-4abf-b5f1-abbdc87320d5",
   "metadata": {},
   "outputs": [
    {
     "name": "stdout",
     "output_type": "stream",
     "text": [
      "The value of x after swapping: 9\n",
      "The value of y after swapping: 6\n"
     ]
    }
   ],
   "source": [
    "#Example: Swap two variables\n",
    "\n",
    "x = 6\n",
    "y = 9\n",
    "\n",
    "# To take inputs from the user\n",
    "#x = input('Enter value of x: ')\n",
    "#y = input('Enter value of y: ')\n",
    "\n",
    "# create a temporary variable and swap the values\n",
    "temp = x\n",
    "x = y\n",
    "y = temp\n",
    "\n",
    "print('The value of x after swapping: {}'.format(x))\n",
    "print('The value of y after swapping: {}'.format(y))"
   ]
  },
  {
   "cell_type": "markdown",
   "id": "8c6d52a5-37e2-4be7-b974-4fff504b1151",
   "metadata": {},
   "source": [
    "## Explanation:\n",
    "\n",
    "In this program, we use the temp variable to hold the value of x temporarily. We then put the value of y in x and later temp in y. In this way, the values get exchanged."
   ]
  },
  {
   "cell_type": "markdown",
   "id": "fc575a93-f342-4bc9-9810-4a71767f0828",
   "metadata": {},
   "source": [
    "## Source Code: Without Using Temporary Variable\n",
    "In Python, there is a simple construct to swap variables. The following code does the same as above but without the use of any temporary variable."
   ]
  },
  {
   "cell_type": "code",
   "execution_count": 2,
   "id": "0ca5073e-e2fa-4af6-85c4-ba3972c6c227",
   "metadata": {},
   "outputs": [
    {
     "name": "stdout",
     "output_type": "stream",
     "text": [
      "x = 9\n",
      "y = 6\n"
     ]
    }
   ],
   "source": [
    "x = 6\n",
    "y = 9\n",
    "\n",
    "x, y = y, x\n",
    "print(\"x =\", x)\n",
    "print(\"y =\", y)"
   ]
  },
  {
   "cell_type": "markdown",
   "id": "33c764f2-2e29-4b4c-a5b0-e2206b6355f5",
   "metadata": {},
   "source": [
    "If the variables are both numbers, we can use arithmetic operations to do the same. It might not look intuitive at first sight. But if you think about it, it is pretty easy to figure it out. Here are a few examples:"
   ]
  },
  {
   "cell_type": "markdown",
   "id": "41b96b4b-95dd-48b9-8753-4007ce448e10",
   "metadata": {},
   "source": [
    "## Addition and Subtraction"
   ]
  },
  {
   "cell_type": "code",
   "execution_count": 3,
   "id": "891da449-a172-4eff-a159-d8d5ead5832b",
   "metadata": {},
   "outputs": [
    {
     "name": "stdout",
     "output_type": "stream",
     "text": [
      "x = 9\n",
      "y = 6\n"
     ]
    }
   ],
   "source": [
    "x = 6\n",
    "y = 9\n",
    "\n",
    "# Addition and Subtraction\n",
    "x = x + y\n",
    "y = x - y\n",
    "x = x - y\n",
    "print(\"x =\", x)\n",
    "print(\"y =\", y)"
   ]
  },
  {
   "cell_type": "markdown",
   "id": "5abb217d-f525-4681-ad53-87575683728b",
   "metadata": {},
   "source": [
    "## Multiplication and Division"
   ]
  },
  {
   "cell_type": "code",
   "execution_count": 4,
   "id": "14419329-5758-4564-bd96-1232bfda0ce9",
   "metadata": {},
   "outputs": [
    {
     "name": "stdout",
     "output_type": "stream",
     "text": [
      "x = 9.0\n",
      "y = 6.0\n"
     ]
    }
   ],
   "source": [
    "x = 6\n",
    "y = 9\n",
    "\n",
    "# Multiplication and Division\n",
    "x = x * y\n",
    "y = x / y\n",
    "x = x / y\n",
    "print(\"x =\", x)\n",
    "print(\"y =\", y)"
   ]
  },
  {
   "cell_type": "markdown",
   "id": "7e9b81e9-d827-4f24-b95a-b5f019b9cf86",
   "metadata": {},
   "source": [
    "## XOR swap\n",
    "This algorithm works for integers only"
   ]
  },
  {
   "cell_type": "code",
   "execution_count": 5,
   "id": "22889ade-fdf0-4c22-8965-45664dd7b15d",
   "metadata": {},
   "outputs": [
    {
     "name": "stdout",
     "output_type": "stream",
     "text": [
      "x = 9\n",
      "y = 6\n"
     ]
    }
   ],
   "source": [
    "x = 6\n",
    "y = 9\n",
    "\n",
    "# XOR swap: This algorithm works for integers only\n",
    "x = x ^ y\n",
    "y = x ^ y\n",
    "x = x ^ y\n",
    "print(\"x =\", x)\n",
    "print(\"y =\", y)"
   ]
  }
 ],
 "metadata": {
  "kernelspec": {
   "display_name": "Python 3 (ipykernel)",
   "language": "python",
   "name": "python3"
  },
  "language_info": {
   "codemirror_mode": {
    "name": "ipython",
    "version": 3
   },
   "file_extension": ".py",
   "mimetype": "text/x-python",
   "name": "python",
   "nbconvert_exporter": "python",
   "pygments_lexer": "ipython3",
   "version": "3.12.7"
  }
 },
 "nbformat": 4,
 "nbformat_minor": 5
}
