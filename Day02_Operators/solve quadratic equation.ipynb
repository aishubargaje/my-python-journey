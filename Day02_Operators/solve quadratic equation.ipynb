{
 "cells": [
  {
   "cell_type": "markdown",
   "id": "62d9c7ec-ecf2-40ec-976d-520610c89d45",
   "metadata": {},
   "source": [
    "# Python Program to Solve Quadratic Equation\n",
    "This program computes roots of a quadratic equation when coefficients a, b and c are known."
   ]
  },
  {
   "cell_type": "markdown",
   "id": "72ec5370-286b-4f1f-a4ab-deec1e638f47",
   "metadata": {},
   "source": [
    "\n",
    "The standard form of a quadratic equation is:\n",
    "\n",
    "ax**2 + bx + c = 0, where\n",
    "a, b and c are real numbers and\n",
    "a ≠ 0\n",
    "The solutions of this quadratic equation is given by:\n",
    "\n",
    "(-b ± (b ** 2 - 4 * a * c) ** 0.5) / 2 * a"
   ]
  },
  {
   "cell_type": "code",
   "execution_count": 1,
   "id": "e1d49773-f12e-4410-b976-818409036a8a",
   "metadata": {},
   "outputs": [
    {
     "name": "stdout",
     "output_type": "stream",
     "text": [
      "The solution are (-3+0j) and (-2+0j)\n"
     ]
    }
   ],
   "source": [
    "#Example: Solve the quadratic equation ax**2 + bx + c = 0\n",
    "\n",
    "# import complex math module\n",
    "import cmath\n",
    "\n",
    "a = 1\n",
    "b = 5\n",
    "c = 6\n",
    "\n",
    "# calculate the discriminant\n",
    "d = (b**2) - (4*a*c)\n",
    "\n",
    "# find two solutions\n",
    "sol1 = (-b-cmath.sqrt(d))/(2*a)\n",
    "sol2 = (-b+cmath.sqrt(d))/(2*a)\n",
    "\n",
    "print('The solution are {0} and {1}'.format(sol1,sol2))\n"
   ]
  },
  {
   "cell_type": "markdown",
   "id": "9bd267fd-1392-4e5a-b990-1b889ee6730c",
   "metadata": {},
   "source": [
    "# Explanation:\n",
    "\n",
    "We have imported the cmath module to perform complex square root. First, we calculate the discriminant and then find the two solutions of the quadratic equation.\n",
    "\n",
    "You can change the value of a, b and c in the above program and test this program."
   ]
  },
  {
   "cell_type": "code",
   "execution_count": null,
   "id": "0b0e2510-1820-46ea-bbf9-0d0727560a7c",
   "metadata": {},
   "outputs": [],
   "source": []
  }
 ],
 "metadata": {
  "kernelspec": {
   "display_name": "Python 3 (ipykernel)",
   "language": "python",
   "name": "python3"
  },
  "language_info": {
   "codemirror_mode": {
    "name": "ipython",
    "version": 3
   },
   "file_extension": ".py",
   "mimetype": "text/x-python",
   "name": "python",
   "nbconvert_exporter": "python",
   "pygments_lexer": "ipython3",
   "version": "3.12.7"
  }
 },
 "nbformat": 4,
 "nbformat_minor": 5
}
