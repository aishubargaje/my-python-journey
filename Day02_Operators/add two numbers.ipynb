{
 "cells": [
  {
   "cell_type": "markdown",
   "id": "5bea3f95-cb60-47b4-8536-6582521c04aa",
   "metadata": {},
   "source": [
    "# Python Program to Add Two Numbers\n",
    "In this program, you will learn to add two numbers and display it using print() function."
   ]
  },
  {
   "cell_type": "code",
   "execution_count": 3,
   "id": "3038f401-c0e5-40df-b1f9-16b38f84c498",
   "metadata": {},
   "outputs": [
    {
     "name": "stdout",
     "output_type": "stream",
     "text": [
      "The sum of 3.3 and 6.3 is 9.6\n"
     ]
    }
   ],
   "source": [
    "#In the program below, we've used the + operator to add two numbers.\n",
    "#Example 1: Add Two Numbers\n",
    "\n",
    "num1 = 3.3\n",
    "num2 = 6.3\n",
    "\n",
    "# Add two numbers\n",
    "sum = num1 + num2\n",
    "\n",
    "# Display the sum\n",
    "print('The sum of {0} and {1} is {2}'.format(num1, num2, sum))"
   ]
  },
  {
   "cell_type": "code",
   "execution_count": 4,
   "id": "7d5dcca8-c898-4329-b86f-5ceb05916fa9",
   "metadata": {},
   "outputs": [
    {
     "name": "stdin",
     "output_type": "stream",
     "text": [
      "Enter first number:  4.5\n",
      "Enter second number:  6.9\n"
     ]
    },
    {
     "name": "stdout",
     "output_type": "stream",
     "text": [
      "The sum of 4.5 and 6.9 is 11.4\n"
     ]
    }
   ],
   "source": [
    "#The program below calculates the sum of two numbers entered by the user..\n",
    "#Example 2: Add Two Numbers With User Input\n",
    "\n",
    "# Store input numbers\n",
    "num1 = input('Enter first number: ')\n",
    "num2 = input('Enter second number: ')\n",
    "\n",
    "# Add two numbers\n",
    "sum = float(num1) + float(num2)\n",
    "\n",
    "# Display the sum\n",
    "print('The sum of {0} and {1} is {2}'.format(num1, num2, sum))\n"
   ]
  },
  {
   "cell_type": "markdown",
   "id": "c4be5554-4d16-4ac7-abc3-a19f0ed4d331",
   "metadata": {},
   "source": [
    "# Explanation:\n",
    "\n",
    "In this program, we asked the user to enter two numbers and this program displays the sum of two numbers entered by user.\n",
    "\n",
    "We use the built-in function input() to take the input. Since, input() returns a string, we convert the string into number using the float() function. Then, the numbers are added.\n",
    "\n",
    "Alternative to this, we can perform this addition in a single statement without using any variables as follows."
   ]
  },
  {
   "cell_type": "code",
   "execution_count": 5,
   "id": "9e3040c2-e253-4fa9-a2e8-3fd45d36ed98",
   "metadata": {},
   "outputs": [
    {
     "name": "stdin",
     "output_type": "stream",
     "text": [
      "Enter first number:  96\n",
      "Enter second number:  45\n"
     ]
    },
    {
     "name": "stdout",
     "output_type": "stream",
     "text": [
      "The sum is 141.0\n"
     ]
    }
   ],
   "source": [
    "print('The sum is %.1f' %(float(input('Enter first number: ')) + float(input('Enter second number: '))))"
   ]
  },
  {
   "cell_type": "code",
   "execution_count": null,
   "id": "7bae70d0-960d-462f-9cd1-bd72e7bd77fd",
   "metadata": {},
   "outputs": [],
   "source": []
  }
 ],
 "metadata": {
  "kernelspec": {
   "display_name": "Python 3 (ipykernel)",
   "language": "python",
   "name": "python3"
  },
  "language_info": {
   "codemirror_mode": {
    "name": "ipython",
    "version": 3
   },
   "file_extension": ".py",
   "mimetype": "text/x-python",
   "name": "python",
   "nbconvert_exporter": "python",
   "pygments_lexer": "ipython3",
   "version": "3.12.7"
  }
 },
 "nbformat": 4,
 "nbformat_minor": 5
}
