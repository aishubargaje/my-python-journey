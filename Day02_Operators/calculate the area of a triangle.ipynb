{
 "cells": [
  {
   "cell_type": "markdown",
   "id": "697a6149-c52d-4ec4-a88b-9243c4027d52",
   "metadata": {},
   "source": [
    "# Python Program to Calculate the Area of a Triangle\n",
    "In this program, you'll learn to calculate the area of a triangle and display it."
   ]
  },
  {
   "cell_type": "markdown",
   "id": "d37e19a7-125f-462b-bb2d-967115d9ec81",
   "metadata": {},
   "source": [
    "\n",
    "If a, b and c are three sides of a triangle. Then,\n",
    "\n",
    "s = (a+b+c)/2\n",
    "area = √(s(s-a)*(s-b)*(s-c))"
   ]
  },
  {
   "cell_type": "code",
   "execution_count": 1,
   "id": "60f3b4b1-292f-4d63-889b-cbb2344ec9ad",
   "metadata": {},
   "outputs": [
    {
     "name": "stdout",
     "output_type": "stream",
     "text": [
      "The area of the triangle is 14.70\n"
     ]
    }
   ],
   "source": [
    "#Example: Python Program to find the area of triangle\n",
    "\n",
    "a = 5\n",
    "b = 6\n",
    "c = 7\n",
    "\n",
    "# Uncomment below to take inputs from the user\n",
    "# a = float(input('Enter first side: '))\n",
    "# b = float(input('Enter second side: '))\n",
    "# c = float(input('Enter third side: '))\n",
    "\n",
    "# calculate the semi-perimeter\n",
    "s = (a + b + c) / 2\n",
    "\n",
    "# calculate the area\n",
    "area = (s*(s-a)*(s-b)*(s-c)) ** 0.5\n",
    "print('The area of the triangle is %0.2f' %area)"
   ]
  },
  {
   "cell_type": "markdown",
   "id": "f9f2c8ef-8405-4680-af80-2244bb944c4d",
   "metadata": {},
   "source": [
    "# Explanation:\n",
    "\n",
    "In this program, area of the triangle is calculated when three sides are given using Heron's formula.\n",
    "\n",
    "If you need to calculate area of a triangle depending upon the input from the user, input() function can be used."
   ]
  },
  {
   "cell_type": "code",
   "execution_count": 2,
   "id": "11ef0507-498c-4a96-8d04-68b01f3d235e",
   "metadata": {},
   "outputs": [
    {
     "name": "stdin",
     "output_type": "stream",
     "text": [
      "Enter first side:  15\n",
      "Enter second side:  9\n",
      "Enter third side:  7\n"
     ]
    },
    {
     "name": "stdout",
     "output_type": "stream",
     "text": [
      "The area of the triangle is 20.69\n"
     ]
    }
   ],
   "source": [
    "# Here is source code of the Python Program to find the area of triangle given all three sides.\n",
    "# The program output is also shown below.\n",
    "\n",
    "# Method 1:\n",
    "\n",
    "# Three sides of the triangle is a, b and c:  \n",
    "a = float(input('Enter first side: '))  \n",
    "b = float(input('Enter second side: '))  \n",
    "c = float(input('Enter third side: '))  \n",
    "  \n",
    "# calculate the semi-perimeter  \n",
    "s = (a + b + c) / 2  \n",
    "  \n",
    "# calculate the area \n",
    "area = (s*(s-a)*(s-b)*(s-c)) **  0.5   \n",
    "print(\"The area of the triangle is %0.2f\" %area)  "
   ]
  },
  {
   "cell_type": "code",
   "execution_count": 3,
   "id": "021e0247-30b6-4dfc-8206-c0c1f2627202",
   "metadata": {},
   "outputs": [
    {
     "name": "stdin",
     "output_type": "stream",
     "text": [
      "Enter first side:  15\n",
      "Enter second side:  9\n",
      "Enter third side:  7\n"
     ]
    },
    {
     "name": "stdout",
     "output_type": "stream",
     "text": [
      "Area of the triangle is:  20.69\n"
     ]
    }
   ],
   "source": [
    "# Here is source code of the Python Program to find the area of triangle given all three sides.\n",
    "# The program output is also shown below.\n",
    "\n",
    "# Method 2:\n",
    "\n",
    "# Three sides of the triangle is a, b and c:  \n",
    "import math\n",
    "a=int(input(\"Enter first side: \"))\n",
    "b=int(input(\"Enter second side: \"))\n",
    "c=int(input(\"Enter third side: \"))\n",
    "  \n",
    "# calculate the semi-perimeter  \n",
    "s = (a + b + c) / 2  \n",
    "  \n",
    "# calculate the area = (s*(s-a)*(s-b)*(s-c))-1/2\n",
    "area=math.sqrt(s*(s-a)*(s-b)*(s-c)) \n",
    "print(\"Area of the triangle is: \",round(area,2)) "
   ]
  },
  {
   "cell_type": "code",
   "execution_count": null,
   "id": "d5fed880-a8fb-4625-9f5c-e1d620724265",
   "metadata": {},
   "outputs": [],
   "source": []
  }
 ],
 "metadata": {
  "kernelspec": {
   "display_name": "Python 3 (ipykernel)",
   "language": "python",
   "name": "python3"
  },
  "language_info": {
   "codemirror_mode": {
    "name": "ipython",
    "version": 3
   },
   "file_extension": ".py",
   "mimetype": "text/x-python",
   "name": "python",
   "nbconvert_exporter": "python",
   "pygments_lexer": "ipython3",
   "version": "3.12.7"
  }
 },
 "nbformat": 4,
 "nbformat_minor": 5
}
