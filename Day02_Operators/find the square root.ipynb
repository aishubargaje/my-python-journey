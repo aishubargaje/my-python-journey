{
 "cells": [
  {
   "cell_type": "markdown",
   "id": "67338725-3656-4d4e-bac3-0903d609ce9c",
   "metadata": {},
   "source": [
    "# Python Program to Find the Square Root\n",
    "In this program, you'll learn to find the square root of a number using exponent operator and cmath module."
   ]
  },
  {
   "cell_type": "code",
   "execution_count": 1,
   "id": "6193fd93-1275-4ecf-86e9-5113afa8a3fd",
   "metadata": {},
   "outputs": [
    {
     "name": "stdout",
     "output_type": "stream",
     "text": [
      "The square root of 9.000 is 3.000\n"
     ]
    }
   ],
   "source": [
    "#Example: For positive numbers\n",
    "# Python Program to calculate the square root\n",
    "\n",
    "# Note: change this value for a different result\n",
    "num = 9 \n",
    "\n",
    "# To take the input from the user\n",
    "#num = float(input('Enter a number: '))\n",
    "\n",
    "num_sqrt = num ** 0.5\n",
    "print('The square root of %0.3f is %0.3f'%(num ,num_sqrt))"
   ]
  },
  {
   "cell_type": "markdown",
   "id": "03297afa-0981-42b3-be23-e004898a04c0",
   "metadata": {},
   "source": [
    "# Explanation:\n",
    "\n",
    "In this program, we store the number in num and find the square root using the ****** exponent operator. This program works for all positive real numbers. But for negative or complex numbers, it can be done as follows."
   ]
  },
  {
   "cell_type": "code",
   "execution_count": 2,
   "id": "94d122cd-4708-4dd2-a2b1-75a225f616fb",
   "metadata": {},
   "outputs": [
    {
     "name": "stdout",
     "output_type": "stream",
     "text": [
      "The square root of (1+2j) is 1.272+0.786j\n"
     ]
    }
   ],
   "source": [
    "# Find square root of real or complex numbers\n",
    "# Importing the complex math module\n",
    "\n",
    "import cmath\n",
    "\n",
    "num = 1+2j\n",
    "\n",
    "# To take input from the user\n",
    "#num = eval(input('Enter a number: '))\n",
    "\n",
    "num_sqrt = cmath.sqrt(num)\n",
    "print('The square root of {0} is {1:0.3f}+{2:0.3f}j'.format(num ,num_sqrt.real,num_sqrt.imag))"
   ]
  },
  {
   "cell_type": "markdown",
   "id": "5a82af03-c641-4fa8-a773-be6e96eac847",
   "metadata": {},
   "source": [
    "# Explanation:\n",
    "\n",
    "In this program, we use the sqrt() function in the cmath (complex math) module.\n",
    "\n",
    "Note: If we want to take complex number as input directly, like 3+4j, we have to use the eval() function instead of float(). The eval() method can be used to convert complex numbers as input to the complex objects in Python."
   ]
  },
  {
   "cell_type": "code",
   "execution_count": null,
   "id": "8363222c-edbf-4073-977a-d8cc6e05030a",
   "metadata": {},
   "outputs": [],
   "source": []
  }
 ],
 "metadata": {
  "kernelspec": {
   "display_name": "Python 3 (ipykernel)",
   "language": "python",
   "name": "python3"
  },
  "language_info": {
   "codemirror_mode": {
    "name": "ipython",
    "version": 3
   },
   "file_extension": ".py",
   "mimetype": "text/x-python",
   "name": "python",
   "nbconvert_exporter": "python",
   "pygments_lexer": "ipython3",
   "version": "3.12.7"
  }
 },
 "nbformat": 4,
 "nbformat_minor": 5
}
