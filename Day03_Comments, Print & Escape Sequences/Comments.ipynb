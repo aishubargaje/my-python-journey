{
 "cells": [
  {
   "cell_type": "markdown",
   "id": "c1c24388-73f8-4f5e-a124-55ca01e38f9e",
   "metadata": {},
   "source": [
    "# Comments\n",
    "A comment is a part of the coding file that the programmer does not want to execute, rather the programmer uses it to either explain a block of code or to avoid the execution of a specific part of code while testing"
   ]
  },
  {
   "cell_type": "markdown",
   "id": "08b14f34-0fff-406b-8cab-727b134f8655",
   "metadata": {},
   "source": [
    "# Single Line Comment\n",
    "To write a command just add a \"#\" at the start of the line"
   ]
  },
  {
   "cell_type": "code",
   "execution_count": 1,
   "id": "e8cb3a6e-6ec0-4780-a171-067b514e06af",
   "metadata": {},
   "outputs": [
    {
     "name": "stdout",
     "output_type": "stream",
     "text": [
      "This is a Print Statement.\n"
     ]
    }
   ],
   "source": [
    "# Example 1\n",
    "# printing the statement using print statement\n",
    "print(\"This is a Print Statement.\")"
   ]
  },
  {
   "cell_type": "code",
   "execution_count": 2,
   "id": "aa83c0f3-7551-40d3-af83-d2f9b84dbc79",
   "metadata": {},
   "outputs": [
    {
     "name": "stdout",
     "output_type": "stream",
     "text": [
      "Hello World!!!\n"
     ]
    }
   ],
   "source": [
    "# Example 2\n",
    "# printing hello world\n",
    "print(\"Hello World!!!\")"
   ]
  },
  {
   "cell_type": "code",
   "execution_count": 3,
   "id": "8a517a4f-fa6f-45bf-9f77-32158b2c79d5",
   "metadata": {},
   "outputs": [
    {
     "name": "stdout",
     "output_type": "stream",
     "text": [
      "Python Program\n"
     ]
    }
   ],
   "source": [
    "# Example 2 \n",
    "# printing Python Program\n",
    "print(\"Python Program\")"
   ]
  },
  {
   "cell_type": "code",
   "execution_count": 4,
   "id": "a96e0204-ee97-4324-b41c-1dc2a9b07589",
   "metadata": {},
   "outputs": [
    {
     "name": "stdout",
     "output_type": "stream",
     "text": [
      "Hello, World!\n",
      "8\n"
     ]
    }
   ],
   "source": [
    "# This is a single line comment\n",
    "\n",
    "print(\"Hello, World!\")  # Printing a message\n",
    "\n",
    "x = 10  # Assigning value 10 to variable x\n",
    "\n",
    "# Adding two numbers\n",
    "a = 5\n",
    "b = 3\n",
    "sum = a + b  # Store result in sum\n",
    "print(sum)\n"
   ]
  },
  {
   "cell_type": "markdown",
   "id": "b8377aa0-bcf0-44a8-9d2d-519629457cc4",
   "metadata": {},
   "source": [
    "# Multi Line Comment\n",
    "\n",
    "To write multi line comments you use # at each line or you can use the multiline string"
   ]
  },
  {
   "cell_type": "markdown",
   "id": "68127400-76cd-45fd-b097-0a5d5264fb6f",
   "metadata": {},
   "source": [
    "## Method 1: Multiple \"#\""
   ]
  },
  {
   "cell_type": "code",
   "execution_count": 5,
   "id": "fdc3ad2d-c22f-48b5-a6ae-5efac5cc6116",
   "metadata": {},
   "outputs": [
    {
     "name": "stdout",
     "output_type": "stream",
     "text": [
      "Hello, Python!\n"
     ]
    }
   ],
   "source": [
    "# This is line 1 of a comment\n",
    "# This is line 2 of a comment\n",
    "# This is line 3 of a comment\n",
    "print(\"Hello, Python!\")\n"
   ]
  },
  {
   "cell_type": "markdown",
   "id": "2e308f20-c38c-4af8-9a78-f379d7e65326",
   "metadata": {},
   "source": [
    "## Method 2: Triple Quotes (''' or \"\"\")\n",
    "Python ignores triple-quoted strings if they’re not assigned to any variable, so we can use them like block comments."
   ]
  },
  {
   "cell_type": "code",
   "execution_count": 6,
   "id": "71bc809e-627a-4850-adca-2d6301ce4ed8",
   "metadata": {},
   "outputs": [
    {
     "name": "stdout",
     "output_type": "stream",
     "text": [
      "Python is fun!\n",
      "Learning comments in Python!\n"
     ]
    }
   ],
   "source": [
    "'''\n",
    "This is a multi-line comment\n",
    "using triple single quotes.\n",
    "It won’t be executed.\n",
    "'''\n",
    "print(\"Python is fun!\")\n",
    "\n",
    "\"\"\"\n",
    "Another way to write\n",
    "multi-line comments\n",
    "using triple double quotes.\n",
    "\"\"\"\n",
    "print(\"Learning comments in Python!\")\n"
   ]
  }
 ],
 "metadata": {
  "kernelspec": {
   "display_name": "Python 3 (ipykernel)",
   "language": "python",
   "name": "python3"
  },
  "language_info": {
   "codemirror_mode": {
    "name": "ipython",
    "version": 3
   },
   "file_extension": ".py",
   "mimetype": "text/x-python",
   "name": "python",
   "nbconvert_exporter": "python",
   "pygments_lexer": "ipython3",
   "version": "3.12.7"
  }
 },
 "nbformat": 4,
 "nbformat_minor": 5
}
