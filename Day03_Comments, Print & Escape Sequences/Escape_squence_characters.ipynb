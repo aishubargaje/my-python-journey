{
 "cells": [
  {
   "cell_type": "markdown",
   "id": "69dceb28-e8d2-4d0c-9d64-4380d38e5d85",
   "metadata": {},
   "source": [
    "# Escape Sequence Characters"
   ]
  },
  {
   "cell_type": "markdown",
   "id": "da7e7017-bd07-4fc2-93e2-ced2395eb179",
   "metadata": {},
   "source": [
    "To insert characters that cannot be directly used in a string, we use an escape sequence character.\n",
    "An escape sequence character is a backslash (\\) followed by the character you want to insert.\n",
    "An example of a character that cannot be directly used in a string is a double quote inside a string that is a double quote inside a string that is surrounded by double quotes(\" \")"
   ]
  },
  {
   "cell_type": "code",
   "execution_count": 1,
   "id": "52a29606-e286-44d5-8bed-215477a2d751",
   "metadata": {},
   "outputs": [
    {
     "name": "stdout",
     "output_type": "stream",
     "text": [
      "Hello\n",
      "World\n"
     ]
    }
   ],
   "source": [
    "# Newline (\\n) - moves text to the next line\n",
    "print(\"Hello\\nWorld\")"
   ]
  },
  {
   "cell_type": "code",
   "execution_count": 2,
   "id": "3d6db9a1-02f5-41f5-bb94-4cef4b3ef553",
   "metadata": {},
   "outputs": [
    {
     "name": "stdout",
     "output_type": "stream",
     "text": [
      "Name:\tAishwarya\n"
     ]
    }
   ],
   "source": [
    "# Tab (\\t) - adds horizontal space\n",
    "print(\"Name:\\tAishwarya\")"
   ]
  },
  {
   "cell_type": "code",
   "execution_count": 3,
   "id": "8f14e675-e940-48ec-a830-204ffa763138",
   "metadata": {},
   "outputs": [
    {
     "name": "stdout",
     "output_type": "stream",
     "text": [
      "It's a sunny day\n"
     ]
    }
   ],
   "source": [
    "# Single quote (\\') - allows single quote inside single-quoted string\n",
    "print('It\\'s a sunny day')"
   ]
  },
  {
   "cell_type": "code",
   "execution_count": 4,
   "id": "b79f5c11-a7ac-4e47-97c6-1a5a3ac272c0",
   "metadata": {},
   "outputs": [
    {
     "name": "stdout",
     "output_type": "stream",
     "text": [
      "He said, \"Python is easy!\"\n"
     ]
    }
   ],
   "source": [
    "# Double quote (\\\") - allows double quote inside double-quoted string\n",
    "print(\"He said, \\\"Python is easy!\\\"\")"
   ]
  },
  {
   "cell_type": "code",
   "execution_count": 5,
   "id": "3b6bdedb-4a46-48fe-930b-eda1b7d976db",
   "metadata": {},
   "outputs": [
    {
     "name": "stdout",
     "output_type": "stream",
     "text": [
      "This is a backslash: \\\n"
     ]
    }
   ],
   "source": [
    "# Backslash (\\\\) - prints a single backslash\n",
    "print(\"This is a backslash: \\\\\")"
   ]
  },
  {
   "cell_type": "code",
   "execution_count": 6,
   "id": "cad44b35-8a01-4a69-b1e0-59414b7daff2",
   "metadata": {},
   "outputs": [
    {
     "name": "stdout",
     "output_type": "stream",
     "text": [
      "World\n"
     ]
    }
   ],
   "source": [
    "# Carriage return (\\r) - moves cursor to start of line\n",
    "print(\"Hello\\rWorld\")"
   ]
  },
  {
   "cell_type": "code",
   "execution_count": 7,
   "id": "1032804e-a81d-46eb-9977-12c1273f87c7",
   "metadata": {},
   "outputs": [
    {
     "name": "stdout",
     "output_type": "stream",
     "text": [
      "Pytho3\n"
     ]
    }
   ],
   "source": [
    "# Backspace (\\b) - deletes one character before it\n",
    "print(\"Python\\b3\")"
   ]
  },
  {
   "cell_type": "code",
   "execution_count": 8,
   "id": "7754e659-e4eb-4e9d-9af1-5a8eeacd68f8",
   "metadata": {},
   "outputs": [
    {
     "name": "stdout",
     "output_type": "stream",
     "text": [
      "Hello\f",
      "World\n"
     ]
    }
   ],
   "source": [
    "# Formfeed (\\f) - moves to next line with indentation\n",
    "print(\"Hello\\fWorld\")"
   ]
  }
 ],
 "metadata": {
  "kernelspec": {
   "display_name": "Python 3 (ipykernel)",
   "language": "python",
   "name": "python3"
  },
  "language_info": {
   "codemirror_mode": {
    "name": "ipython",
    "version": 3
   },
   "file_extension": ".py",
   "mimetype": "text/x-python",
   "name": "python",
   "nbconvert_exporter": "python",
   "pygments_lexer": "ipython3",
   "version": "3.12.7"
  }
 },
 "nbformat": 4,
 "nbformat_minor": 5
}
