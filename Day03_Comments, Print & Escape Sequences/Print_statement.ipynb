{
 "cells": [
  {
   "cell_type": "markdown",
   "id": "d4baca7b-fc21-43b5-b9d5-809a4054b3c9",
   "metadata": {},
   "source": [
    "# Print Statement()"
   ]
  },
  {
   "cell_type": "markdown",
   "id": "3ac20dd0-0ca2-4259-ba63-01302e50dad6",
   "metadata": {},
   "source": [
    "The print() function in Python is used to display output on the screen.\n",
    "\n",
    "It can print strings, numbers, variables, expressions, or even multiple values at once.\n",
    "\n",
    "By default, print() adds a newline (\\n) at the end of the output."
   ]
  },
  {
   "cell_type": "code",
   "execution_count": 2,
   "id": "37f21b5c-1782-4930-8020-1f7732d08382",
   "metadata": {},
   "outputs": [
    {
     "name": "stdout",
     "output_type": "stream",
     "text": [
      "Hello, World!\n",
      "10\n",
      "3.14\n",
      "Aishwarya 21\n",
      "8\n"
     ]
    }
   ],
   "source": [
    "# Printing a string\n",
    "print(\"Hello, World!\")\n",
    "\n",
    "# Printing numbers\n",
    "print(10)\n",
    "print(3.14)\n",
    "\n",
    "# Printing variables\n",
    "name = \"Aishwarya\"\n",
    "age = 21\n",
    "print(name, age)\n",
    "\n",
    "# Printing an expression\n",
    "print(5 + 3)   # Output: 8"
   ]
  },
  {
   "cell_type": "markdown",
   "id": "9c834357-a301-48c2-8b48-437ff96e88bb",
   "metadata": {},
   "source": [
    "## 1. Printing multiple items"
   ]
  },
  {
   "cell_type": "code",
   "execution_count": 3,
   "id": "20ba4ba8-5fac-40c5-9707-4986fe3d6006",
   "metadata": {},
   "outputs": [
    {
     "name": "stdout",
     "output_type": "stream",
     "text": [
      "My name is Aishwarya and I am 21 years old\n"
     ]
    }
   ],
   "source": [
    "print(\"My name is\", \"Aishwarya\", \"and I am\", 21, \"years old\")\n",
    "# Output: My name is Aishwarya and I am 21 years old"
   ]
  },
  {
   "cell_type": "markdown",
   "id": "919bf627-3d0f-44bb-88dd-0b4945bb2bcc",
   "metadata": {},
   "source": [
    "## 2.Using sep (separator between values)"
   ]
  },
  {
   "cell_type": "code",
   "execution_count": 4,
   "id": "17d3494b-2912-4d5a-849c-57bdb0ad9700",
   "metadata": {},
   "outputs": [
    {
     "name": "stdout",
     "output_type": "stream",
     "text": [
      "2025-09-21\n"
     ]
    }
   ],
   "source": [
    "print(\"2025\", \"09\", \"21\", sep=\"-\")\n",
    "# Output: 2025-09-21"
   ]
  },
  {
   "cell_type": "markdown",
   "id": "5b4b2904-11d2-427b-a233-7cd872e2f834",
   "metadata": {},
   "source": [
    "## 3. Using end (what to print at the end instead of newline"
   ]
  },
  {
   "cell_type": "code",
   "execution_count": 5,
   "id": "f8932fdf-07a8-4d93-af06-12532ac55eff",
   "metadata": {},
   "outputs": [
    {
     "name": "stdout",
     "output_type": "stream",
     "text": [
      "Hello World\n"
     ]
    }
   ],
   "source": [
    "print(\"Hello\", end=\" \")\n",
    "print(\"World\")\n",
    "# Output: Hello World"
   ]
  },
  {
   "cell_type": "markdown",
   "id": "1abee569-78ae-4161-ae2c-0ef0c62a1992",
   "metadata": {},
   "source": [
    "## 4. Printing with escape sequences"
   ]
  },
  {
   "cell_type": "code",
   "execution_count": 6,
   "id": "9062fc52-98a3-4903-8bb2-3c13ef5bf12c",
   "metadata": {},
   "outputs": [
    {
     "name": "stdout",
     "output_type": "stream",
     "text": [
      "Hello\n",
      "Python\n",
      "Name:\tAishwarya\n"
     ]
    }
   ],
   "source": [
    "print(\"Hello\\nPython\")   # Newline\n",
    "print(\"Name:\\tAishwarya\")  # Tab space"
   ]
  },
  {
   "cell_type": "markdown",
   "id": "ced1fd1f-e029-4f16-bcb1-bf0918bb71f9",
   "metadata": {},
   "source": [
    "## 5. Printing formatted strings (f-strings)"
   ]
  },
  {
   "cell_type": "code",
   "execution_count": 7,
   "id": "0aef46e6-0ce3-47c3-9812-4354a6974a30",
   "metadata": {},
   "outputs": [
    {
     "name": "stdout",
     "output_type": "stream",
     "text": [
      "My name is Aishwarya and I scored 95 marks.\n"
     ]
    }
   ],
   "source": [
    "name = \"Aishwarya\"\n",
    "marks = 95\n",
    "print(f\"My name is {name} and I scored {marks} marks.\")\n",
    "# Output: My name is Aishwarya and I scored 95 marks."
   ]
  }
 ],
 "metadata": {
  "kernelspec": {
   "display_name": "Python 3 (ipykernel)",
   "language": "python",
   "name": "python3"
  },
  "language_info": {
   "codemirror_mode": {
    "name": "ipython",
    "version": 3
   },
   "file_extension": ".py",
   "mimetype": "text/x-python",
   "name": "python",
   "nbconvert_exporter": "python",
   "pygments_lexer": "ipython3",
   "version": "3.12.7"
  }
 },
 "nbformat": 4,
 "nbformat_minor": 5
}
