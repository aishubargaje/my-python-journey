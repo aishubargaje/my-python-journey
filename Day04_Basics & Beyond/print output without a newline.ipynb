{
 "cells": [
  {
   "cell_type": "markdown",
   "id": "3be6d7ad-b289-418c-8ccc-3b21e42bfcd7",
   "metadata": {},
   "source": [
    "# Python Program to Print Output Without a Newline\n",
    "In this example, you will learn to print output without a newline."
   ]
  },
  {
   "cell_type": "code",
   "execution_count": 1,
   "id": "6eec3c33-c476-43b9-a7d3-2e3a483f10f0",
   "metadata": {},
   "outputs": [
    {
     "name": "stdout",
     "output_type": "stream",
     "text": [
      "Python\n",
      "learning is fun.\n",
      "\n",
      "Python learning is fun.\n"
     ]
    }
   ],
   "source": [
    "#Example: Using `end` keyword print each statement on a new line\n",
    "\n",
    "print(\"Python\")\n",
    "print(\"learning is fun.\")\n",
    "\n",
    "# new line\n",
    "print()\n",
    "\n",
    "# print both the statements on a single line\n",
    "print(\"Python\", end=\" \")\n",
    "print(\"learning is fun.\")"
   ]
  },
  {
   "cell_type": "code",
   "execution_count": 2,
   "id": "805b1b3f-e2f2-443a-afe4-48fe1bac3fd9",
   "metadata": {},
   "outputs": [
    {
     "name": "stdout",
     "output_type": "stream",
     "text": [
      "Python is awesome!\n"
     ]
    }
   ],
   "source": [
    "print(\"Python\", end=\" \")\n",
    "print(\"is\", end=\" \")\n",
    "print(\"awesome!\")"
   ]
  }
 ],
 "metadata": {
  "kernelspec": {
   "display_name": "Python 3 (ipykernel)",
   "language": "python",
   "name": "python3"
  },
  "language_info": {
   "codemirror_mode": {
    "name": "ipython",
    "version": 3
   },
   "file_extension": ".py",
   "mimetype": "text/x-python",
   "name": "python",
   "nbconvert_exporter": "python",
   "pygments_lexer": "ipython3",
   "version": "3.12.7"
  }
 },
 "nbformat": 4,
 "nbformat_minor": 5
}
